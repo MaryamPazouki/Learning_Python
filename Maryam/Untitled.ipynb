{
 "cells": [
  {
   "cell_type": "code",
   "execution_count": 4,
   "id": "ae1adf65-9666-47d3-852f-38226fbdf759",
   "metadata": {},
   "outputs": [
    {
     "name": "stderr",
     "output_type": "stream",
     "text": [
      "UsageError: %%python is a cell magic, but the cell body is empty.\n"
     ]
    }
   ],
   "source": []
  },
  {
   "cell_type": "code",
   "execution_count": 5,
   "id": "4e43d286-6689-4491-96aa-af4064acc930",
   "metadata": {},
   "outputs": [],
   "source": []
  },
  {
   "cell_type": "code",
   "execution_count": 9,
   "id": "9b3c342a-0931-475d-af96-9563283b6ad9",
   "metadata": {},
   "outputs": [
    {
     "name": "stdout",
     "output_type": "stream",
     "text": [
      "0 1\n",
      "1 2\n",
      "2 4\n",
      "3 8\n",
      "4 16\n",
      "5 32\n"
     ]
    }
   ],
   "source": [
    "%%python - 5 \n",
    "import sys\n",
    "# if name == 'main':\n",
    "n = int (sys.argv[1])\n",
    "power=1\n",
    "for i in range(n+1):\n",
    "    print(str(i) + ' ' + str(power))\n",
    "    power *=2"
   ]
  },
  {
   "cell_type": "code",
   "execution_count": null,
   "id": "5e3798f2-4a80-4587-b944-3f95ad4db296",
   "metadata": {},
   "outputs": [],
   "source": []
  }
 ],
 "metadata": {
  "kernelspec": {
   "display_name": "Python 3 (ipykernel)",
   "language": "python",
   "name": "python3"
  },
  "language_info": {
   "codemirror_mode": {
    "name": "ipython",
    "version": 3
   },
   "file_extension": ".py",
   "mimetype": "text/x-python",
   "name": "python",
   "nbconvert_exporter": "python",
   "pygments_lexer": "ipython3",
   "version": "3.10.13"
  }
 },
 "nbformat": 4,
 "nbformat_minor": 5
}
